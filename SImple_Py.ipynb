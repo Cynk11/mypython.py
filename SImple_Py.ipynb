{
  "nbformat": 4,
  "nbformat_minor": 0,
  "metadata": {
    "colab": {
      "name": "SImple Py.ipynb",
      "provenance": [],
      "authorship_tag": "ABX9TyOsdPswhlCOMTbs/T+SfwYp",
      "include_colab_link": true
    },
    "kernelspec": {
      "name": "python3",
      "display_name": "Python 3"
    }
  },
  "cells": [
    {
      "cell_type": "markdown",
      "metadata": {
        "id": "view-in-github",
        "colab_type": "text"
      },
      "source": [
        "<a href=\"https://colab.research.google.com/github/Cynk11/mypython.py/blob/main/SImple_Py.ipynb\" target=\"_parent\"><img src=\"https://colab.research.google.com/assets/colab-badge.svg\" alt=\"Open In Colab\"/></a>"
      ]
    },
    {
      "cell_type": "code",
      "metadata": {
        "colab": {
          "base_uri": "https://localhost:8080/"
        },
        "id": "NQUGwkW6tsE3",
        "outputId": "a7a543df-ab9f-4791-d2cd-93426b78518c"
      },
      "source": [
        "print('hello there')\r\n",
        "first_name = input('What is your first name: ')\r\n",
        "last_name = input('What is your last name: ')\r\n",
        "full_name = first_name +  ' '  + last_name\r\n",
        "print('Hello ' + full_name)"
      ],
      "execution_count": 5,
      "outputs": [
        {
          "output_type": "stream",
          "text": [
            "hello there\n",
            "What is your first name: Cynk\n",
            "What is your last name: Carillo\n",
            "Hello Cynk Carillo\n"
          ],
          "name": "stdout"
        }
      ]
    }
  ]
}